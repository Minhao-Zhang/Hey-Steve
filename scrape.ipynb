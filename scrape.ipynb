{
 "cells": [
  {
   "cell_type": "code",
   "execution_count": 1,
   "metadata": {},
   "outputs": [],
   "source": [
    "from helpers import *\n",
    "\n",
    "PATH = 'data/'\n",
    "URL_HEAD = 'https://minecraft.wiki/w/'\n",
    "\n",
    "# extract_items()\n",
    "# extract_blocks()\n",
    "\n",
    "# This has to be done in a notebook for some reason. \n",
    "# The html2text package will error if this is in a python script. "
   ]
  },
  {
   "cell_type": "code",
   "execution_count": null,
   "metadata": {},
   "outputs": [],
   "source": [
    "# Pull and parse mob data\n",
    "\n",
    "with open('urls/mobs.txt', 'r') as f:\n",
    "    urls = f.readlines()\n",
    "    urls = [x.strip() for x in urls]\n",
    "\n",
    "for url in urls:\n",
    "    data = scrape_mob(URL_HEAD + url)\n",
    "    data = parse_mob_info_table(data)\n",
    "    write_to_file(PATH + url + '.md', data)"
   ]
  }
 ],
 "metadata": {
  "kernelspec": {
   "display_name": "mc-assistant",
   "language": "python",
   "name": "python3"
  },
  "language_info": {
   "codemirror_mode": {
    "name": "ipython",
    "version": 3
   },
   "file_extension": ".py",
   "mimetype": "text/x-python",
   "name": "python",
   "nbconvert_exporter": "python",
   "pygments_lexer": "ipython3",
   "version": "3.11.9"
  }
 },
 "nbformat": 4,
 "nbformat_minor": 2
}
