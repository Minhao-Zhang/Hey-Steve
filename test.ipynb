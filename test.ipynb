{
 "cells": [
  {
   "cell_type": "code",
   "execution_count": 1,
   "metadata": {},
   "outputs": [],
   "source": [
    "import ollama \n",
    "with open('data/Biome.md', 'r') as f:\n",
    "    text = f.read()"
   ]
  },
  {
   "cell_type": "code",
   "execution_count": 2,
   "metadata": {},
   "outputs": [
    {
     "name": "stdout",
     "output_type": "stream",
     "text": [
      "The provided code snippet is related to Minecraft biome generation, specifically the environment color changes in different biomes based on their temperature values. It appears as a section titled \"Environment\" within a larger document containing information about Minecraft biomes. The chunk begins with the line `<chunk>`, which indicates that it is part of the main document's content, likely related to the game's biome generation or settings.\n"
     ]
    }
   ],
   "source": [
    "WHOLE_DOCUMENT = text \n",
    "CHUNK_CONTENT = \"\"\"### Environment\n",
    "The color of the sky in Overworld changes according to the basic temperature value of the biome. The basic temperature is first modified as . Then the triple (0.62222224−0.05T,0.5+0.1T,1) is the sky color. In addition, the colors of water, underwater fog and fog in a biome are defined in the vanilla data pack‌[JE only] or vanilla resource packs‌[BE only]. \n",
    "\"\"\"\n",
    "\n",
    "msg = f\"\"\"\n",
    "<document> \n",
    "{WHOLE_DOCUMENT} \n",
    "</document> \n",
    "Here is the chunk we want to situate within the whole document \n",
    "<chunk> \n",
    "{CHUNK_CONTENT}\n",
    "</chunk> \n",
    "Please give a short succinct context to situate this chunk within the overall document for the purposes of improving search retrieval of the chunk. Answer only with the succinct context and nothing else. \n",
    "\"\"\"\n",
    "messages = [{'role': 'user', 'content': msg}]\n",
    "response = ollama.chat(model='48k-llama3.2:1b', messages=messages)\n",
    "print(response['message']['content'])"
   ]
  }
 ],
 "metadata": {
  "language_info": {
   "name": "python"
  }
 },
 "nbformat": 4,
 "nbformat_minor": 2
}
