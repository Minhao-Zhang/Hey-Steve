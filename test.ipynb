{
 "cells": [
  {
   "cell_type": "code",
   "execution_count": 1,
   "metadata": {},
   "outputs": [],
   "source": [
    "import html2text\n",
    "from langchain_text_splitters import MarkdownHeaderTextSplitter\n",
    "import re\n",
    "\n",
    "from helpers import write_to_file\n",
    "\n",
    "with open('cache/Block.html', 'r') as f:\n",
    "    block = f.read()\n"
   ]
  }
 ],
 "metadata": {
  "kernelspec": {
   "display_name": "mc-assistant",
   "language": "python",
   "name": "python3"
  },
  "language_info": {
   "codemirror_mode": {
    "name": "ipython",
    "version": 3
   },
   "file_extension": ".py",
   "mimetype": "text/x-python",
   "name": "python",
   "nbconvert_exporter": "python",
   "pygments_lexer": "ipython3",
   "version": "3.11.9"
  }
 },
 "nbformat": 4,
 "nbformat_minor": 2
}
