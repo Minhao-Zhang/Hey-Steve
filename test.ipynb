{
 "cells": [
  {
   "cell_type": "markdown",
   "metadata": {},
   "source": [
    "# MC AI Assistant\n",
    "## What is this project?\n",
    "\n",
    "This project is a demo on a complete RAG application that will provide guides on a specific domain knowledge -- Minecraft."
   ]
  },
  {
   "cell_type": "markdown",
   "metadata": {},
   "source": [
    "## Download the dataset\n",
    "As the dataset is scraped from [Minecraft wiki](https://minecraft.wiki) under [cc by-nc-sa 3.0](https://creativecommons.org/licenses/by-nc-sa/3.0/deed.en), I will not include them here. However, I have provided some scripts that will download them."
   ]
  }
 ],
 "metadata": {
  "kernelspec": {
   "display_name": "mc-assistance",
   "language": "python",
   "name": "python3"
  },
  "language_info": {
   "name": "python",
   "version": "3.12.8"
  }
 },
 "nbformat": 4,
 "nbformat_minor": 2
}
