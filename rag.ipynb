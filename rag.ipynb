{
 "cells": [
  {
   "cell_type": "code",
   "execution_count": 1,
   "metadata": {},
   "outputs": [],
   "source": [
    "from helpers import chunk_and_contextualize_text \n",
    "import chromadb \n",
    "import ollama\n",
    "chroma_client = chromadb.PersistentClient(path=\"chromadb/\")\n",
    "# chroma_client.delete_collection(\"my_collection\")\n",
    "collection = chroma_client.create_collection(name=\"mc_collection\", get_or_create=True)"
   ]
  },
  {
   "cell_type": "code",
   "execution_count": 2,
   "metadata": {},
   "outputs": [],
   "source": [
    "count = 0\n",
    "def add_to_chroma_db(text: str):\n",
    "    global count \n",
    "    embed = ollama.embeddings(model='nomic-embed-text', prompt=text)\n",
    "    collection.add(embeddings=[embed[\"embedding\"]], documents=[text], ids=[f\"id_{count}\"])\n",
    "    count += 1\n",
    "def query_chroma_db(text: str, n_results=10):\n",
    "    return collection.query(ollama.embeddings(model='nomic-embed-text', prompt=text)[\"embedding\"], n_results=n_results)"
   ]
  },
  {
   "cell_type": "code",
   "execution_count": 3,
   "metadata": {},
   "outputs": [],
   "source": [
    "# %%time\n",
    "\n",
    "# # find all file in data directory \n",
    "# import os\n",
    "# # iterate over all files in data directory\n",
    "# # add them into chromadb\n",
    "# for filename in os.listdir(\"data\"):\n",
    "#     with open(f\"data/{filename}\", \"r\") as f:\n",
    "#         print(f\"Processing {filename}\")\n",
    "#         text = f.read()\n",
    "#         chunked_text = chunk_and_contextualize_text(text)\n",
    "#         for chunk in chunked_text:\n",
    "#             add_to_chroma_db(chunk)"
   ]
  },
  {
   "cell_type": "code",
   "execution_count": 4,
   "metadata": {},
   "outputs": [],
   "source": [
    "def ask_rag(question, model='24k-llama3.2'):\n",
    "    responses = query_chroma_db(question, n_results=10)\n",
    "    # for response in responses['documents'][0]:\n",
    "    #     print(response)\n",
    "    context = \"\"\n",
    "    for i in range(len(responses['documents'][0])):\n",
    "        context += f\"{i+1}. {responses['documents'][0][i]} \"\n",
    "    \n",
    "    system = f\"\"\"\n",
    "    You are a Minecraft expert. You are answering a question about the game of Minecraft.\n",
    "    Use the following pieces of context to answer the question at the end. \n",
    "    If you don't know the answer, just say that you don't know, don't try to make up an answer.\n",
    "    Use five sentences maximum and keep the answer as concise as possible. \n",
    "    {context}\n",
    "    \"\"\"\n",
    "            \n",
    "    response = ollama.chat(model=model, messages=[\n",
    "    {\n",
    "        'role': 'system',\n",
    "        'content': system,\n",
    "    },\n",
    "    {\n",
    "        'role': 'user',\n",
    "        'content': question,\n",
    "    },\n",
    "    ])\n",
    "    \n",
    "    return response['message']['content']"
   ]
  },
  {
   "cell_type": "code",
   "execution_count": 5,
   "metadata": {},
   "outputs": [
    {
     "name": "stdout",
     "output_type": "stream",
     "text": [
      "I don't know where you can find a witch in Minecraft.\n"
     ]
    }
   ],
   "source": [
    "print(ask_rag(\"Where can I find witch?\", model='24k-llama3.2'))"
   ]
  },
  {
   "cell_type": "code",
   "execution_count": 6,
   "metadata": {},
   "outputs": [
    {
     "name": "stdout",
     "output_type": "stream",
     "text": [
      "A Minecraft Ender Dragon has 200 health points.\n"
     ]
    }
   ],
   "source": [
    "print(ask_rag(\"How much health points does a Ender Dragon have?\", model='24k-llama3.2'))"
   ]
  },
  {
   "cell_type": "code",
   "execution_count": 7,
   "metadata": {},
   "outputs": [
    {
     "name": "stdout",
     "output_type": "stream",
     "text": [
      "You can find Sniffers by hatching from sniffer eggs, which can be obtained by breaking suspicious sand blocks found in warm ocean ruins.\n"
     ]
    }
   ],
   "source": [
    "print(ask_rag(\"Where can I find Sniffers?\", model='24k-llama3.2'))"
   ]
  },
  {
   "cell_type": "code",
   "execution_count": 8,
   "metadata": {},
   "outputs": [
    {
     "name": "stdout",
     "output_type": "stream",
     "text": [
      "A piglin brute charges at the player on sight, unlike piglins which barter with players. They wield a golden axe and are considered hostile mob types.\n"
     ]
    }
   ],
   "source": [
    "print(ask_rag(\"What does a piglin brute do?\", model='24k-llama3.2'))"
   ]
  }
 ],
 "metadata": {
  "kernelspec": {
   "display_name": "mc-assistant",
   "language": "python",
   "name": "python3"
  },
  "language_info": {
   "codemirror_mode": {
    "name": "ipython",
    "version": 3
   },
   "file_extension": ".py",
   "mimetype": "text/x-python",
   "name": "python",
   "nbconvert_exporter": "python",
   "pygments_lexer": "ipython3",
   "version": "3.11.9"
  }
 },
 "nbformat": 4,
 "nbformat_minor": 2
}
