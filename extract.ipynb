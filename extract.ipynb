{
 "cells": [
  {
   "cell_type": "code",
   "execution_count": 3,
   "metadata": {},
   "outputs": [],
   "source": [
    "from LLMClient import GeminiClient\n",
    "from extract_info import *\n",
    "\n",
    "gc = GeminiClient()\n",
    "\n",
    "with open(\"prompt_template/extract_property.txt\", \"r\") as f:\n",
    "    pt = f.read()"
   ]
  },
  {
   "cell_type": "code",
   "execution_count": null,
   "metadata": {},
   "outputs": [
    {
     "name": "stderr",
     "output_type": "stream",
     "text": [
      "  4%|▍         | 3/80 [00:03<01:29,  1.16s/it]"
     ]
    }
   ],
   "source": [
    "from tqdm import tqdm\n",
    "\n",
    "\n",
    "with open(\"urls/mobs.txt\", \"r\") as f:\n",
    "    names = f.readlines()\n",
    "    names = [name.strip() for name in names]\n",
    "\n",
    "    # Process the name a bit\n",
    "    names = [name.replace(\"'\", \"_\") for name in names]\n",
    "    names = [name.replace(\"(\", \"_\").replace(\")\", \"_\") for name in names]\n",
    "\n",
    "for name in tqdm(names):\n",
    "    with open(f\"data/{name}.md\", \"r\") as f:\n",
    "        content = f.read()\n",
    "        \n",
    "        # Extract the information\n",
    "        title, disambiguation, table_text, description = split_markdown_sections(content)\n",
    "        \n",
    "        table_json = gc.chat(pt + table_text)\n",
    "        table_json = table_json.replace(\"```json\\n\", \"\").replace(\"```\", \"\")\n",
    "        with open(f\"temp/{name}.json\", \"w\") as f:\n",
    "            f.write(table_json)\n"
   ]
  }
 ],
 "metadata": {
  "kernelspec": {
   "display_name": "mc-assistance",
   "language": "python",
   "name": "python3"
  },
  "language_info": {
   "codemirror_mode": {
    "name": "ipython",
    "version": 3
   },
   "file_extension": ".py",
   "mimetype": "text/x-python",
   "name": "python",
   "nbconvert_exporter": "python",
   "pygments_lexer": "ipython3",
   "version": "3.12.8"
  }
 },
 "nbformat": 4,
 "nbformat_minor": 2
}
