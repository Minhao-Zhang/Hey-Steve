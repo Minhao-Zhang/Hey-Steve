{
 "cells": [
  {
   "cell_type": "markdown",
   "metadata": {},
   "source": [
    "# Compare Embedding Function"
   ]
  },
  {
   "cell_type": "markdown",
   "metadata": {},
   "source": [
    "## Create collections"
   ]
  },
  {
   "cell_type": "code",
   "execution_count": 1,
   "metadata": {},
   "outputs": [],
   "source": [
    "import chromadb\n",
    "from chromadb.utils.embedding_functions.sentence_transformer_embedding_function import SentenceTransformerEmbeddingFunction\n",
    "from chromadb.utils.embedding_functions.ollama_embedding_function import OllamaEmbeddingFunction\n",
    "from sentence_transformers import SentenceTransformer\n",
    "\n",
    "client = chromadb.Client()\n",
    "\n",
    "all_MiniLM_L6_v2_tuned = client.get_or_create_collection(\n",
    "    name=\"all_MiniLM_L6_v2_tuned\", \n",
    "    embedding_function=SentenceTransformerEmbeddingFunction(\n",
    "        \"sentence-transformers/all-MiniLM-L6-v2\", device=\"cuda\")\n",
    ")"
   ]
  },
  {
   "cell_type": "code",
   "execution_count": 2,
   "metadata": {},
   "outputs": [],
   "source": [
    "# Function to encode query using the adapter\n",
    "def encode_query(query, base_model, adapter):\n",
    "    device = next(adapter.parameters()).device\n",
    "    query_emb = base_model.encode(query, convert_to_tensor=True).to(device)\n",
    "    adapted_query_emb = adapter(query_emb)\n",
    "    return adapted_query_emb.cpu().detach().numpy()"
   ]
  },
  {
   "cell_type": "markdown",
   "metadata": {},
   "source": [
    "## Define evaluation functions\n",
    "\n",
    "Copied from https://github.com/ALucek/linear-adapter-embedding/blob/main/Linear_Adapter.ipynb"
   ]
  },
  {
   "cell_type": "code",
   "execution_count": 3,
   "metadata": {},
   "outputs": [],
   "source": [
    "def reciprocal_rank(retrieved_docs, ground_truth, k):\n",
    "    try:\n",
    "        rank = retrieved_docs.index(ground_truth) + 1\n",
    "        return 1.0 / rank if rank <= k else 0.0\n",
    "    except ValueError:\n",
    "        return 0.0\n",
    "\n",
    "\n",
    "def hit_rate(retrieved_docs, ground_truth, k):\n",
    "    return 1.0 if ground_truth in retrieved_docs[:k] else 0.0\n"
   ]
  },
  {
   "cell_type": "markdown",
   "metadata": {},
   "source": [
    "## Prepare dataset"
   ]
  },
  {
   "cell_type": "code",
   "execution_count": 4,
   "metadata": {},
   "outputs": [],
   "source": [
    "from utils import get_train_test\n",
    "\n",
    "train_cq, test_cq = get_train_test(\"../../data/chunk_question_pairs\")\n",
    "all_chunks = train_cq['chunk'].tolist()\n",
    "all_chunks.extend(test_cq['chunk'].tolist())"
   ]
  },
  {
   "cell_type": "markdown",
   "metadata": {},
   "source": [
    "## Embed chunks"
   ]
  },
  {
   "cell_type": "code",
   "execution_count": 5,
   "metadata": {},
   "outputs": [],
   "source": [
    "def retrieve_documents_embeddings(collection, query_embedding, k=10):\n",
    "    query_embedding_list = query_embedding.tolist()\n",
    "    \n",
    "    results = collection.query(\n",
    "        query_embeddings=[query_embedding_list],\n",
    "        n_results=k)\n",
    "    return results['documents'][0]"
   ]
  },
  {
   "cell_type": "code",
   "execution_count": 6,
   "metadata": {},
   "outputs": [],
   "source": [
    "from tqdm import tqdm\n",
    "def insert_documents(collection, all_chunks):\n",
    "    i = 0\n",
    "    for chunk in tqdm(all_chunks):\n",
    "        collection.add(\n",
    "        documents=[chunk],\n",
    "        ids=[f\"chunk_{i}\"]\n",
    "        )\n",
    "        i += 1"
   ]
  },
  {
   "cell_type": "code",
   "execution_count": 7,
   "metadata": {},
   "outputs": [
    {
     "name": "stderr",
     "output_type": "stream",
     "text": [
      "100%|██████████| 24000/24000 [03:16<00:00, 122.01it/s]\n"
     ]
    }
   ],
   "source": [
    "insert_documents(all_MiniLM_L6_v2_tuned, all_chunks)"
   ]
  },
  {
   "cell_type": "markdown",
   "metadata": {},
   "source": [
    "## Evaluate result"
   ]
  },
  {
   "cell_type": "code",
   "execution_count": 8,
   "metadata": {},
   "outputs": [],
   "source": [
    "import numpy as np\n",
    "\n",
    "def evaluate_adapter(validation_data, collection, base_model, adapter, k=10):\n",
    "    hit_rates = []\n",
    "    reciprocal_ranks = []\n",
    "    \n",
    "    for _, row in validation_data.iterrows():\n",
    "        question = row['question']\n",
    "        ground_truth = row['chunk']\n",
    "        \n",
    "        # Generate embedding for the question\n",
    "        question_embedding = encode_query(question, base_model, adapter)\n",
    "        # Retrieve documents using the embedding\n",
    "        retrieved_docs = retrieve_documents_embeddings(collection, question_embedding, k)\n",
    "        \n",
    "        # Calculate metrics\n",
    "        hr = hit_rate(retrieved_docs, ground_truth, k)\n",
    "        rr = reciprocal_rank(retrieved_docs, ground_truth, k)\n",
    "        \n",
    "        hit_rates.append(hr)\n",
    "        reciprocal_ranks.append(rr)\n",
    "    \n",
    "    # Calculate average metrics\n",
    "    avg_hit_rate = np.mean(hit_rates)\n",
    "    avg_reciprocal_rank = np.mean(reciprocal_ranks)\n",
    "    \n",
    "    return {\n",
    "        'average_hit_rate': avg_hit_rate,\n",
    "        'average_reciprocal_rank': avg_reciprocal_rank\n",
    "    }"
   ]
  },
  {
   "cell_type": "code",
   "execution_count": null,
   "metadata": {},
   "outputs": [],
   "source": [
    "\n",
    "# Later, loading and using the saved information\n",
    "import torch\n",
    "from utils import LinearAdapter\n",
    "\n",
    "\n",
    "loaded_dict = torch.load('../../models/mc_emb/adapters/linear_adapter_20.pth')\n",
    "\n",
    "base_model = SentenceTransformer('all-MiniLM-L6-v2')\n",
    "\n",
    "# Recreate the adapter\n",
    "loaded_adapter = LinearAdapter(base_model.get_sentence_embedding_dimension())  # Initialize with appropriate parameters\n",
    "loaded_adapter.load_state_dict(loaded_dict['adapter_state_dict'])\n",
    "\n",
    "# Access the training parameters\n",
    "training_params = loaded_dict['adapter_kwargs']\n",
    "\n",
    "print(\"Adapter loaded successfully.\")\n",
    "print(\"Training parameters used:\")\n",
    "for key, value in training_params.items():\n",
    "    print(f\"{key}: {value}\")"
   ]
  },
  {
   "cell_type": "code",
   "execution_count": null,
   "metadata": {},
   "outputs": [
    {
     "ename": "NameError",
     "evalue": "name 'base_model' is not defined",
     "output_type": "error",
     "traceback": [
      "\u001b[31m---------------------------------------------------------------------------\u001b[39m",
      "\u001b[31mNameError\u001b[39m                                 Traceback (most recent call last)",
      "\u001b[36mCell\u001b[39m\u001b[36m \u001b[39m\u001b[32mIn[10]\u001b[39m\u001b[32m, line 1\u001b[39m\n\u001b[32m----> \u001b[39m\u001b[32m1\u001b[39m results = evaluate_adapter(test_cq, all_MiniLM_L6_v2_tuned, \u001b[43mbase_model\u001b[49m, loaded_adapter, k=\u001b[32m10\u001b[39m)\n\u001b[32m      2\u001b[39m \u001b[38;5;28mprint\u001b[39m(\u001b[33mf\u001b[39m\u001b[33m\"\u001b[39m\u001b[33mAverage Hit Rate @10: \u001b[39m\u001b[38;5;132;01m{\u001b[39;00mresults[\u001b[33m'\u001b[39m\u001b[33maverage_hit_rate\u001b[39m\u001b[33m'\u001b[39m]\u001b[38;5;132;01m}\u001b[39;00m\u001b[33m\"\u001b[39m)\n\u001b[32m      3\u001b[39m \u001b[38;5;28mprint\u001b[39m(\u001b[33mf\u001b[39m\u001b[33m\"\u001b[39m\u001b[33mMean Reciprocal Rank @10: \u001b[39m\u001b[38;5;132;01m{\u001b[39;00mresults[\u001b[33m'\u001b[39m\u001b[33maverage_reciprocal_rank\u001b[39m\u001b[33m'\u001b[39m]\u001b[38;5;132;01m}\u001b[39;00m\u001b[33m\"\u001b[39m)\n",
      "\u001b[31mNameError\u001b[39m: name 'base_model' is not defined"
     ]
    }
   ],
   "source": [
    "results = evaluate_adapter(test_cq, all_MiniLM_L6_v2_tuned, base_model, loaded_adapter, k=10)\n",
    "print(f\"Average Hit Rate @10: {results['average_hit_rate']}\")\n",
    "print(f\"Mean Reciprocal Rank @10: {results['average_reciprocal_rank']}\")"
   ]
  }
 ],
 "metadata": {
  "kernelspec": {
   "display_name": "steve",
   "language": "python",
   "name": "python3"
  },
  "language_info": {
   "codemirror_mode": {
    "name": "ipython",
    "version": 3
   },
   "file_extension": ".py",
   "mimetype": "text/x-python",
   "name": "python",
   "nbconvert_exporter": "python",
   "pygments_lexer": "ipython3",
   "version": "3.12.8"
  }
 },
 "nbformat": 4,
 "nbformat_minor": 2
}
