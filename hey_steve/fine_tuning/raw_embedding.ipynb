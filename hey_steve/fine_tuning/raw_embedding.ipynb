{
 "cells": [
  {
   "cell_type": "markdown",
   "metadata": {},
   "source": [
    "# Compare Embedding Function"
   ]
  },
  {
   "cell_type": "markdown",
   "metadata": {},
   "source": [
    "## Create collections"
   ]
  },
  {
   "cell_type": "code",
   "execution_count": 1,
   "metadata": {},
   "outputs": [
    {
     "data": {
      "application/vnd.jupyter.widget-view+json": {
       "model_id": "cb91e1c0bf214e0b84a1fdc1504afe40",
       "version_major": 2,
       "version_minor": 0
      },
      "text/plain": [
       "sentence_bert_config.json:   0%|          | 0.00/53.0 [00:00<?, ?B/s]"
      ]
     },
     "metadata": {},
     "output_type": "display_data"
    },
    {
     "data": {
      "application/vnd.jupyter.widget-view+json": {
       "model_id": "dc3b784cc8e747e49ca4ca5d2caee527",
       "version_major": 2,
       "version_minor": 0
      },
      "text/plain": [
       "config.json:   0%|          | 0.00/571 [00:00<?, ?B/s]"
      ]
     },
     "metadata": {},
     "output_type": "display_data"
    },
    {
     "data": {
      "application/vnd.jupyter.widget-view+json": {
       "model_id": "e154b2d2421e40148f24cc745e8995b6",
       "version_major": 2,
       "version_minor": 0
      },
      "text/plain": [
       "model.safetensors:   0%|          | 0.00/438M [00:00<?, ?B/s]"
      ]
     },
     "metadata": {},
     "output_type": "display_data"
    },
    {
     "data": {
      "application/vnd.jupyter.widget-view+json": {
       "model_id": "bbdee475cb504727b42de5f862741427",
       "version_major": 2,
       "version_minor": 0
      },
      "text/plain": [
       "tokenizer_config.json:   0%|          | 0.00/363 [00:00<?, ?B/s]"
      ]
     },
     "metadata": {},
     "output_type": "display_data"
    },
    {
     "data": {
      "application/vnd.jupyter.widget-view+json": {
       "model_id": "50cb743a24df45608927f4e1a38cd4a6",
       "version_major": 2,
       "version_minor": 0
      },
      "text/plain": [
       "vocab.txt:   0%|          | 0.00/232k [00:00<?, ?B/s]"
      ]
     },
     "metadata": {},
     "output_type": "display_data"
    },
    {
     "data": {
      "application/vnd.jupyter.widget-view+json": {
       "model_id": "ad2baebf21e54777adb503b29bf96118",
       "version_major": 2,
       "version_minor": 0
      },
      "text/plain": [
       "tokenizer.json:   0%|          | 0.00/466k [00:00<?, ?B/s]"
      ]
     },
     "metadata": {},
     "output_type": "display_data"
    },
    {
     "data": {
      "application/vnd.jupyter.widget-view+json": {
       "model_id": "562d553e06c0494a95d2335b7fd69d7f",
       "version_major": 2,
       "version_minor": 0
      },
      "text/plain": [
       "special_tokens_map.json:   0%|          | 0.00/239 [00:00<?, ?B/s]"
      ]
     },
     "metadata": {},
     "output_type": "display_data"
    },
    {
     "data": {
      "application/vnd.jupyter.widget-view+json": {
       "model_id": "21ef692f55e14d4687954bebbd71d014",
       "version_major": 2,
       "version_minor": 0
      },
      "text/plain": [
       "config.json:   0%|          | 0.00/190 [00:00<?, ?B/s]"
      ]
     },
     "metadata": {},
     "output_type": "display_data"
    }
   ],
   "source": [
    "import chromadb\n",
    "from chromadb.utils.embedding_functions.sentence_transformer_embedding_function import SentenceTransformerEmbeddingFunction\n",
    "from chromadb.utils.embedding_functions.ollama_embedding_function import OllamaEmbeddingFunction\n",
    "\n",
    "client = chromadb.PersistentClient()\n",
    "all_MiniLM_L6_v2 = client.get_or_create_collection(\n",
    "    name=\"all_MiniLM_L6_v2\", \n",
    "    embedding_function=SentenceTransformerEmbeddingFunction(\n",
    "        \"sentence-transformers/all-MiniLM-L6-v2\", device=\"cuda\") # fp32 80MB\n",
    ")\n",
    "all_MiniLM_L12_v2 = client.get_or_create_collection(\n",
    "    name=\"all_MiniLM_L12_v2\", \n",
    "    embedding_function=SentenceTransformerEmbeddingFunction(\n",
    "        \"sentence-transformers/all-MiniLM-L12-v2\", device=\"cuda\") # fp32 120MB\n",
    ")\n",
    "all_mpnet_base_v2 =client.get_or_create_collection(\n",
    "    name=\"all_mpnet_base_v2\", \n",
    "    embedding_function=SentenceTransformerEmbeddingFunction(\n",
    "        \"sentence-transformers/all-mpnet-base-v2\", device=\"cuda\") # fp32 420MB\n",
    ")\n",
    "nomic_embed = client.get_or_create_collection(\n",
    "    name=\"nomic_embed\",\n",
    "    embedding_function=OllamaEmbeddingFunction(\n",
    "        url=\"http://localhost:11434/api/embeddings\", \n",
    "        model_name=\"nomic-embed-text:latest\") #fp32 547MB or fp16 274MB\n",
    ")"
   ]
  },
  {
   "cell_type": "markdown",
   "metadata": {},
   "source": [
    "## Define evaluation functions\n",
    "\n",
    "Copied from https://github.com/ALucek/linear-adapter-embedding/blob/main/Linear_Adapter.ipynb"
   ]
  },
  {
   "cell_type": "code",
   "execution_count": 2,
   "metadata": {},
   "outputs": [],
   "source": [
    "def reciprocal_rank(retrieved_docs, ground_truth, k):\n",
    "    try:\n",
    "        rank = retrieved_docs.index(ground_truth) + 1\n",
    "        return 1.0 / rank if rank <= k else 0.0\n",
    "    except ValueError:\n",
    "        return 0.0\n",
    "\n",
    "def hit_rate(retrieved_docs, ground_truth, k):\n",
    "    return 1.0 if ground_truth in retrieved_docs[:k] else 0.0\n"
   ]
  },
  {
   "cell_type": "markdown",
   "metadata": {},
   "source": [
    "## Prepare dataset"
   ]
  },
  {
   "cell_type": "code",
   "execution_count": 3,
   "metadata": {},
   "outputs": [],
   "source": [
    "from utils import get_train_test\n",
    "\n",
    "train_cq, test_cq = get_train_test(\"../../data/chunk_question_pairs\")\n",
    "all_chunks = train_cq['chunk'].tolist()\n",
    "all_chunks.extend(test_cq['chunk'].tolist())"
   ]
  },
  {
   "cell_type": "markdown",
   "metadata": {},
   "source": [
    "## Embed chunks"
   ]
  },
  {
   "cell_type": "code",
   "execution_count": 4,
   "metadata": {},
   "outputs": [],
   "source": [
    "from tqdm import tqdm\n",
    "def insert_documents(collection, all_chunks):\n",
    "    i = 0\n",
    "    for chunk in tqdm(all_chunks):\n",
    "        collection.add(\n",
    "        documents=[chunk],\n",
    "        ids=[f\"chunk_{i}\"]\n",
    "        )\n",
    "        i += 1"
   ]
  },
  {
   "cell_type": "code",
   "execution_count": 5,
   "metadata": {},
   "outputs": [
    {
     "name": "stderr",
     "output_type": "stream",
     "text": [
      "100%|██████████| 24000/24000 [04:42<00:00, 84.85it/s] \n",
      "100%|██████████| 24000/24000 [06:09<00:00, 65.01it/s]\n",
      "100%|██████████| 24000/24000 [09:11<00:00, 43.54it/s]\n",
      "100%|██████████| 24000/24000 [08:53<00:00, 44.99it/s]"
     ]
    },
    {
     "name": "stdout",
     "output_type": "stream",
     "text": [
      "282.8640055656433\n",
      "369.1847939491272\n",
      "551.1855845451355\n",
      "533.4819731712341\n"
     ]
    },
    {
     "name": "stderr",
     "output_type": "stream",
     "text": [
      "\n"
     ]
    }
   ],
   "source": [
    "import time\n",
    "t0 = time.time()\n",
    "insert_documents(all_MiniLM_L6_v2, all_chunks)\n",
    "t1 = time.time()\n",
    "insert_documents(all_MiniLM_L12_v2, all_chunks)\n",
    "t2 = time.time()\n",
    "insert_documents(all_mpnet_base_v2, all_chunks)\n",
    "t3 = time.time()\n",
    "insert_documents(nomic_embed, all_chunks)\n",
    "t4 = time.time()\n",
    "print(t1-t0)\n",
    "print(t2-t1)\n",
    "print(t3-t2)\n",
    "print(t4-t3)"
   ]
  },
  {
   "cell_type": "markdown",
   "metadata": {},
   "source": [
    "## Evaluate result"
   ]
  },
  {
   "cell_type": "code",
   "execution_count": 6,
   "metadata": {},
   "outputs": [],
   "source": [
    "import numpy as np\n",
    "\n",
    "def validate_embedding_model(validation_data, collection, k=10):\n",
    "    hit_rates = []\n",
    "    reciprocal_ranks = []\n",
    "    \n",
    "    for _, row in validation_data.iterrows():\n",
    "        question = row['question']\n",
    "        ground_truth = row['chunk']\n",
    "        \n",
    "        results = collection.query(\n",
    "            query_texts=[question],\n",
    "            n_results=k\n",
    "        )\n",
    "        \n",
    "        retrieved_docs = results[\"documents\"][0]\n",
    "        \n",
    "        # Calculate metrics\n",
    "        hr = hit_rate(retrieved_docs, ground_truth, k)\n",
    "        rr = reciprocal_rank(retrieved_docs, ground_truth, k)\n",
    "        \n",
    "        hit_rates.append(hr)\n",
    "        reciprocal_ranks.append(rr)\n",
    "    \n",
    "    # Calculate average metrics\n",
    "    avg_hit_rate = np.mean(hit_rates)\n",
    "    avg_reciprocal_rank = np.mean(reciprocal_ranks)\n",
    "    \n",
    "    return {\n",
    "        'average_hit_rate': avg_hit_rate,\n",
    "        'average_reciprocal_rank': avg_reciprocal_rank\n",
    "    }"
   ]
  },
  {
   "cell_type": "code",
   "execution_count": 7,
   "metadata": {},
   "outputs": [
    {
     "name": "stdout",
     "output_type": "stream",
     "text": [
      "Average Hit Rate @10: 0.84125\n",
      "Mean Reciprocal Rank @10: 0.6688880621693121\n",
      "Average Hit Rate @5: 0.781875\n",
      "Mean Reciprocal Rank @5: 0.6608333333333334\n"
     ]
    }
   ],
   "source": [
    "results = validate_embedding_model(test_cq, all_MiniLM_L6_v2, k=10)\n",
    "print(f\"Average Hit Rate @10: {results['average_hit_rate']}\")\n",
    "print(f\"Mean Reciprocal Rank @10: {results['average_reciprocal_rank']}\")\n",
    "\n",
    "results = validate_embedding_model(test_cq, all_MiniLM_L6_v2, k=5)\n",
    "print(f\"Average Hit Rate @5: {results['average_hit_rate']}\")\n",
    "print(f\"Mean Reciprocal Rank @5: {results['average_reciprocal_rank']}\")"
   ]
  },
  {
   "cell_type": "code",
   "execution_count": 8,
   "metadata": {},
   "outputs": [
    {
     "name": "stdout",
     "output_type": "stream",
     "text": [
      "Average Hit Rate @10: 0.8241666666666667\n",
      "Mean Reciprocal Rank @10: 0.6451802248677247\n",
      "Average Hit Rate @5: 0.7554166666666666\n",
      "Mean Reciprocal Rank @5: 0.6360312499999999\n"
     ]
    }
   ],
   "source": [
    "results = validate_embedding_model(test_cq, all_MiniLM_L12_v2, k=10)\n",
    "print(f\"Average Hit Rate @10: {results['average_hit_rate']}\")\n",
    "print(f\"Mean Reciprocal Rank @10: {results['average_reciprocal_rank']}\")\n",
    "\n",
    "results = validate_embedding_model(test_cq, all_MiniLM_L12_v2, k=5)\n",
    "print(f\"Average Hit Rate @5: {results['average_hit_rate']}\")\n",
    "print(f\"Mean Reciprocal Rank @5: {results['average_reciprocal_rank']}\")"
   ]
  },
  {
   "cell_type": "code",
   "execution_count": 9,
   "metadata": {},
   "outputs": [
    {
     "name": "stdout",
     "output_type": "stream",
     "text": [
      "Average Hit Rate @10: 0.83\n",
      "Mean Reciprocal Rank @10: 0.6479026124338625\n",
      "Average Hit Rate @5: 0.7652083333333334\n",
      "Mean Reciprocal Rank @5: 0.6392708333333333\n"
     ]
    }
   ],
   "source": [
    "results = validate_embedding_model(test_cq, all_mpnet_base_v2, k=10)\n",
    "print(f\"Average Hit Rate @10: {results['average_hit_rate']}\")\n",
    "print(f\"Mean Reciprocal Rank @10: {results['average_reciprocal_rank']}\")\n",
    "\n",
    "results = validate_embedding_model(test_cq, all_mpnet_base_v2, k=5)\n",
    "print(f\"Average Hit Rate @5: {results['average_hit_rate']}\")\n",
    "print(f\"Mean Reciprocal Rank @5: {results['average_reciprocal_rank']}\")"
   ]
  },
  {
   "cell_type": "code",
   "execution_count": 10,
   "metadata": {},
   "outputs": [
    {
     "name": "stdout",
     "output_type": "stream",
     "text": [
      "Average Hit Rate @10: 0.8620833333333333\n",
      "Mean Reciprocal Rank @10: 0.6999638723544973\n",
      "Average Hit Rate @5: 0.8016666666666666\n",
      "Mean Reciprocal Rank @5: 0.6917743055555555\n"
     ]
    }
   ],
   "source": [
    "results = validate_embedding_model(test_cq, nomic_embed, k=10)\n",
    "print(f\"Average Hit Rate @10: {results['average_hit_rate']}\")\n",
    "print(f\"Mean Reciprocal Rank @10: {results['average_reciprocal_rank']}\")\n",
    "\n",
    "results = validate_embedding_model(test_cq, nomic_embed, k=5)\n",
    "print(f\"Average Hit Rate @5: {results['average_hit_rate']}\")\n",
    "print(f\"Mean Reciprocal Rank @5: {results['average_reciprocal_rank']}\")"
   ]
  }
 ],
 "metadata": {
  "kernelspec": {
   "display_name": "steve",
   "language": "python",
   "name": "python3"
  },
  "language_info": {
   "codemirror_mode": {
    "name": "ipython",
    "version": 3
   },
   "file_extension": ".py",
   "mimetype": "text/x-python",
   "name": "python",
   "nbconvert_exporter": "python",
   "pygments_lexer": "ipython3",
   "version": "3.12.8"
  }
 },
 "nbformat": 4,
 "nbformat_minor": 2
}
