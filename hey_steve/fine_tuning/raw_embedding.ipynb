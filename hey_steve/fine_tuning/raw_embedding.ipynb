{
 "cells": [
  {
   "cell_type": "markdown",
   "metadata": {},
   "source": [
    "# Compare Embedding Function"
   ]
  },
  {
   "cell_type": "markdown",
   "metadata": {},
   "source": [
    "## Create collections"
   ]
  },
  {
   "cell_type": "code",
   "execution_count": 1,
   "metadata": {},
   "outputs": [],
   "source": [
    "import chromadb\n",
    "from chromadb.utils.embedding_functions.sentence_transformer_embedding_function import SentenceTransformerEmbeddingFunction\n",
    "from chromadb.utils.embedding_functions.ollama_embedding_function import OllamaEmbeddingFunction\n",
    "\n",
    "client = chromadb.Client()\n",
    "all_MiniLM_L6_v2 = client.get_or_create_collection(\n",
    "    name=\"all_MiniLM_L6_v2\", \n",
    "    embedding_function=SentenceTransformerEmbeddingFunction(\n",
    "        \"sentence-transformers/all-MiniLM-L6-v2\", device=\"cuda\") #fp32\n",
    ")\n",
    "all_MiniLM_L12_v2 = client.get_or_create_collection(\n",
    "    name=\"all_MiniLM_L12_v2\", \n",
    "    embedding_function=SentenceTransformerEmbeddingFunction(\n",
    "        \"sentence-transformers/all-MiniLM-L12-v2\", device=\"cuda\") #fp32\n",
    ")\n",
    "nomic_embed = client.get_or_create_collection(\n",
    "    name=\"nomic_embed\",\n",
    "    embedding_function=OllamaEmbeddingFunction(\n",
    "        url=\"http://localhost:11434/api/embeddings\", \n",
    "        model_name=\"nomic-embed-text:latest\") #fp16\n",
    ")\n"
   ]
  },
  {
   "cell_type": "markdown",
   "metadata": {},
   "source": [
    "## Define evaluation functions\n",
    "\n",
    "Copied from https://github.com/ALucek/linear-adapter-embedding/blob/main/Linear_Adapter.ipynb"
   ]
  },
  {
   "cell_type": "code",
   "execution_count": 2,
   "metadata": {},
   "outputs": [],
   "source": [
    "\n",
    "def reciprocal_rank(retrieved_docs, ground_truth, k):\n",
    "    try:\n",
    "        rank = retrieved_docs.index(ground_truth) + 1\n",
    "        return 1.0 / rank if rank <= k else 0.0\n",
    "    except ValueError:\n",
    "        return 0.0\n",
    "\n",
    "\n",
    "def hit_rate(retrieved_docs, ground_truth, k):\n",
    "    return 1.0 if ground_truth in retrieved_docs[:k] else 0.0\n"
   ]
  },
  {
   "cell_type": "markdown",
   "metadata": {},
   "source": [
    "## Prepare dataset"
   ]
  },
  {
   "cell_type": "code",
   "execution_count": 3,
   "metadata": {},
   "outputs": [],
   "source": [
    "from utils import get_train_test\n",
    "\n",
    "train_cq, test_cq = get_train_test(\"../../data/chunk_question_pairs\")\n",
    "all_chunks = train_cq['chunk'].tolist()\n",
    "all_chunks.extend(test_cq['chunk'].tolist())"
   ]
  },
  {
   "cell_type": "markdown",
   "metadata": {},
   "source": [
    "## Embed chunks"
   ]
  },
  {
   "cell_type": "code",
   "execution_count": 4,
   "metadata": {},
   "outputs": [],
   "source": [
    "from tqdm import tqdm\n",
    "def insert_documents(collection, all_chunks):\n",
    "    i = 0\n",
    "    for chunk in tqdm(all_chunks):\n",
    "        collection.add(\n",
    "        documents=[chunk],\n",
    "        ids=[f\"chunk_{i}\"]\n",
    "        )\n",
    "        i += 1"
   ]
  },
  {
   "cell_type": "code",
   "execution_count": null,
   "metadata": {},
   "outputs": [
    {
     "name": "stderr",
     "output_type": "stream",
     "text": [
      "100%|██████████| 24000/24000 [06:20<00:00, 63.04it/s]\n"
     ]
    }
   ],
   "source": [
    "import time\n",
    "t0 = time.time()\n",
    "insert_documents(all_MiniLM_L6_v2, all_chunks)\n",
    "t1 = time.time()\n",
    "insert_documents(all_MiniLM_L12_v2, all_chunks)\n",
    "t2 = time.time()\n",
    "insert_documents(nomic_embed, all_chunks)\n",
    "t3 = time.time()\n",
    "print(t1-t0)\n",
    "print(t2-t1)\n",
    "print(t3-t2)"
   ]
  },
  {
   "cell_type": "markdown",
   "metadata": {},
   "source": [
    "## Evaluate result"
   ]
  },
  {
   "cell_type": "code",
   "execution_count": 6,
   "metadata": {},
   "outputs": [],
   "source": [
    "import numpy as np\n",
    "\n",
    "def validate_embedding_model(validation_data, collection, k=10):\n",
    "    hit_rates = []\n",
    "    reciprocal_ranks = []\n",
    "    \n",
    "    for _, row in validation_data.iterrows():\n",
    "        question = row['question']\n",
    "        ground_truth = row['chunk']\n",
    "        \n",
    "        results = collection.query(\n",
    "            query_texts=[question],\n",
    "            n_results=k\n",
    "        )\n",
    "        \n",
    "        retrieved_docs = results[\"documents\"][0]\n",
    "        \n",
    "        # Calculate metrics\n",
    "        hr = hit_rate(retrieved_docs, ground_truth, k)\n",
    "        rr = reciprocal_rank(retrieved_docs, ground_truth, k)\n",
    "        \n",
    "        hit_rates.append(hr)\n",
    "        reciprocal_ranks.append(rr)\n",
    "    \n",
    "    # Calculate average metrics\n",
    "    avg_hit_rate = np.mean(hit_rates)\n",
    "    avg_reciprocal_rank = np.mean(reciprocal_ranks)\n",
    "    \n",
    "    return {\n",
    "        'average_hit_rate': avg_hit_rate,\n",
    "        'average_reciprocal_rank': avg_reciprocal_rank\n",
    "    }"
   ]
  },
  {
   "cell_type": "code",
   "execution_count": 9,
   "metadata": {},
   "outputs": [
    {
     "name": "stdout",
     "output_type": "stream",
     "text": [
      "Average Hit Rate @10: 0.8414583333333333\n",
      "Mean Reciprocal Rank @10: 0.6692891038359788\n"
     ]
    }
   ],
   "source": [
    "results = validate_embedding_model(test_cq, all_MiniLM_L6_v2)\n",
    "print(f\"Average Hit Rate @10: {results['average_hit_rate']}\")\n",
    "print(f\"Mean Reciprocal Rank @10: {results['average_reciprocal_rank']}\")"
   ]
  },
  {
   "cell_type": "code",
   "execution_count": 10,
   "metadata": {},
   "outputs": [
    {
     "name": "stdout",
     "output_type": "stream",
     "text": [
      "Average Hit Rate @10: 0.8245833333333333\n",
      "Mean Reciprocal Rank @10: 0.6459053406084656\n"
     ]
    }
   ],
   "source": [
    "results = validate_embedding_model(test_cq, all_MiniLM_L12_v2)\n",
    "print(f\"Average Hit Rate @10: {results['average_hit_rate']}\")\n",
    "print(f\"Mean Reciprocal Rank @10: {results['average_reciprocal_rank']}\")"
   ]
  },
  {
   "cell_type": "code",
   "execution_count": 11,
   "metadata": {},
   "outputs": [
    {
     "name": "stdout",
     "output_type": "stream",
     "text": [
      "Average Hit Rate @10: 0.8635416666666667\n",
      "Mean Reciprocal Rank @10: 0.7007503306878307\n"
     ]
    }
   ],
   "source": [
    "results = validate_embedding_model(test_cq, nomic_embed)\n",
    "print(f\"Average Hit Rate @10: {results['average_hit_rate']}\")\n",
    "print(f\"Mean Reciprocal Rank @10: {results['average_reciprocal_rank']}\")"
   ]
  }
 ],
 "metadata": {
  "kernelspec": {
   "display_name": "steve",
   "language": "python",
   "name": "python3"
  },
  "language_info": {
   "codemirror_mode": {
    "name": "ipython",
    "version": 3
   },
   "file_extension": ".py",
   "mimetype": "text/x-python",
   "name": "python",
   "nbconvert_exporter": "python",
   "pygments_lexer": "ipython3",
   "version": "3.13.2"
  }
 },
 "nbformat": 4,
 "nbformat_minor": 2
}
