{
 "cells": [
  {
   "cell_type": "markdown",
   "metadata": {},
   "source": [
    "# Clean the Minecraft Q&A 700k Dataset"
   ]
  },
  {
   "cell_type": "code",
   "execution_count": 1,
   "metadata": {},
   "outputs": [
    {
     "name": "stdout",
     "output_type": "stream",
     "text": [
      "The original table has 694814 rows.\n"
     ]
    }
   ],
   "source": [
    "import pandas as pd\n",
    "\n",
    "# df = pd.read_json(\"hf://datasets/naklecha/minecraft-question-answer-700k/train.json\")\n",
    "mc_qa = pd.read_json(\"../data/hf/minecraft-question-answer-700k.json\")\n",
    "print(f\"The original table has {len(mc_qa)} rows.\")"
   ]
  },
  {
   "cell_type": "markdown",
   "metadata": {},
   "source": [
    "## Unify Source URL"
   ]
  },
  {
   "cell_type": "code",
   "execution_count": 2,
   "metadata": {},
   "outputs": [],
   "source": [
    "def remove_common_root_url(s: str) -> str:\n",
    "    return s[len(\"https://minecraft.wiki/w/\"):]\n",
    "\n",
    "mc_qa['source'] = mc_qa['source'].apply(remove_common_root_url)"
   ]
  },
  {
   "cell_type": "code",
   "execution_count": 3,
   "metadata": {},
   "outputs": [],
   "source": [
    "import re\n",
    "\n",
    "def capitalize_url(url):\n",
    "    if isinstance(url, str):\n",
    "        def capitalize_match(match):\n",
    "            return match.group(0)[0] + match.group(0)[1].upper()\n",
    "\n",
    "        return re.sub(r\"_[a-z]\", capitalize_match, url)\n",
    "    return url\n",
    "\n",
    "mc_qa['source'] = mc_qa['source'].apply(capitalize_url)"
   ]
  },
  {
   "cell_type": "code",
   "execution_count": 4,
   "metadata": {},
   "outputs": [],
   "source": [
    "def remove_after_last_hash(s: str) -> str:\n",
    "    index = s.rfind(\"#\")  # Find the last occurrence of '#'\n",
    "    return s[:index] if index != -1 else s  # Keep only the part before the last '#'\n",
    "\n",
    "mc_qa['source'] = mc_qa['source'].apply(remove_after_last_hash)"
   ]
  },
  {
   "cell_type": "markdown",
   "metadata": {},
   "source": [
    "## Drop duplicates"
   ]
  },
  {
   "cell_type": "code",
   "execution_count": 5,
   "metadata": {},
   "outputs": [
    {
     "name": "stdout",
     "output_type": "stream",
     "text": [
      "The resulting table has 678064 rows.\n"
     ]
    }
   ],
   "source": [
    "mc_qa = mc_qa.drop_duplicates()\n",
    "print(f\"The resulting table has {len(mc_qa)} rows.\")"
   ]
  },
  {
   "cell_type": "markdown",
   "metadata": {},
   "source": [
    "## Remove synthetic data leakage"
   ]
  },
  {
   "cell_type": "code",
   "execution_count": 6,
   "metadata": {},
   "outputs": [],
   "source": [
    "question_counts = mc_qa['question'].value_counts()\n",
    "# duplicate_questions = question_counts[question_counts > 100]\n",
    "# sorted_duplicates = duplicate_questions.sort_values(ascending=False)\n",
    "# sorted_duplicates"
   ]
  },
  {
   "cell_type": "code",
   "execution_count": 7,
   "metadata": {},
   "outputs": [
    {
     "name": "stdout",
     "output_type": "stream",
     "text": [
      "The resulting table has 658031 rows.\n"
     ]
    }
   ],
   "source": [
    "# This number is chosen by looking sorting the count descendingly \n",
    "# and I found everything above this is synthetic garbage\n",
    "leaked_synthetic_questions = question_counts[question_counts > 120] \n",
    "mask = ~mc_qa['question'].isin(leaked_synthetic_questions.index.to_list()) \n",
    "mc_qa = mc_qa[mask]\n",
    "print(f\"The resulting table has {len(mc_qa)} rows.\")"
   ]
  },
  {
   "cell_type": "code",
   "execution_count": 8,
   "metadata": {},
   "outputs": [],
   "source": [
    "# question_counts = mc_qa['question'].value_counts()\n",
    "# duplicate_questions = question_counts[question_counts > 10]\n",
    "# sorted_duplicates = duplicate_questions.sort_values(ascending=False)\n",
    "\n",
    "# questions = sorted_duplicates.index.to_list()\n",
    "# with open(\"temp.txt\", \"w\") as f:\n",
    "#     f.write(\"\\n\".join(questions))"
   ]
  },
  {
   "cell_type": "code",
   "execution_count": 9,
   "metadata": {},
   "outputs": [
    {
     "name": "stdout",
     "output_type": "stream",
     "text": [
      "The resulting table has 656131 rows.\n"
     ]
    }
   ],
   "source": [
    "leaked_synthetic_questions2 = [\n",
    "    \"your question\",\n",
    "    \"Question text here\",\n",
    "    \"{prompt}\",\n",
    "    \"YOUR_QUESTION_HERE\",\n",
    "    \"\",\n",
    "    \"{question_sentence}\",\n",
    "    \"...?\",\n",
    "    \"Question goes here\",\n",
    "    \"#{question}\",\n",
    "    \"{0}\",\n",
    "    \" Your question here \",\n",
    "    \"{q}\",\n",
    "    \" ?\",\n",
    "    \"\\\" + question_sentence + \\\"\",\n",
    "    \"Question about the topic\",\n",
    "    \"{question_answer_pair['question']}\",\n",
    "    \"\\\" + question.strip() + \\\"\",\n",
    "    \"{question['question']}\",\n",
    "    \"{sentence}\",\n",
    "    \"\\\"\\nanswer_tag = \\\"\",\n",
    "    \"YOUR QUESTION\",\n",
    "    \"' + question_sentence + '\",\n",
    "    \"question_text\",\n",
    "    \"Generated Question\",\n",
    "    \"{question_text}\",\n",
    "    \"{input_text}\",\n",
    "    \"Q: ?\",\n",
    "    \"Insert question here\",\n",
    "    \"' + sentence + '\",\n",
    "    \"\\\" + sentence + \\\"\"\n",
    "    \"{qa_pair['question']}\",\n",
    "    \"??\",\n",
    "    \"How many wheels does a car have?\",\n",
    "    \"question text\",\n",
    "    \"' + question.strip() + '\",\n",
    "    \"{question_answer['question']}\",\n",
    "    \"\\\" + q + \\\"\",\n",
    "    \"your_question\",\n",
    "    \"{question_template}\",\n",
    "    \"${question}\",\n",
    "    \"Question text goes here\",\n",
    "    \"What is the purpose of the \",\n",
    "    \"\\\", question[\\\"question\\\"], \\\"\",\n",
    "    \"Question here\",\n",
    "    \"{synthetic_question}\",\n",
    "    \" Your question \",\n",
    "    \"?????\",\n",
    "    \"_______________\",\n",
    "    \"`, `\",\n",
    "    chr(10),\n",
    "    \"What is the meaning of life?\",\n",
    "   \"_____________\",\n",
    "   \" Your Question \",\n",
    "   \"\\\" + prompt + \\\"\",\n",
    "   \"question\",\n",
    "   \"{random_question}\",\n",
    "   \"{question}?\",\n",
    "   \" and \",\n",
    "   \"\\\", question[0]['question'], \\\"\",\n",
    "   \"` and `\"\n",
    "]\n",
    "mask = ~mc_qa['question'].isin(leaked_synthetic_questions2) \n",
    "mc_qa = mc_qa[mask]\n",
    "print(f\"The resulting table has {len(mc_qa)} rows.\")"
   ]
  },
  {
   "cell_type": "code",
   "execution_count": 10,
   "metadata": {},
   "outputs": [
    {
     "name": "stdout",
     "output_type": "stream",
     "text": [
      "The resulting table has 630378 rows.\n"
     ]
    }
   ],
   "source": [
    "mc_qa = mc_qa.drop_duplicates(subset=['question', 'source'])\n",
    "print(f\"The resulting table has {len(mc_qa)} rows.\")"
   ]
  },
  {
   "cell_type": "code",
   "execution_count": 11,
   "metadata": {},
   "outputs": [],
   "source": [
    "# question_counts = mc_qa['question'].value_counts()\n",
    "# duplicate_questions = question_counts[question_counts > 10]\n",
    "# sorted_duplicates = duplicate_questions.sort_values(ascending=False)\n",
    "\n",
    "# questions = sorted_duplicates.index.to_list()\n",
    "# with open(\"temp.txt\", \"w\") as f:\n",
    "#     f.write(\"|||\\n\".join(questions))"
   ]
  },
  {
   "cell_type": "markdown",
   "metadata": {},
   "source": [
    "## Save V1"
   ]
  },
  {
   "cell_type": "code",
   "execution_count": 12,
   "metadata": {},
   "outputs": [
    {
     "data": {
      "application/vnd.jupyter.widget-view+json": {
       "model_id": "27eb5d9ddc6b42caabe1b2c8ebf82913",
       "version_major": 2,
       "version_minor": 0
      },
      "text/plain": [
       "Uploading the dataset shards:   0%|          | 0/1 [00:00<?, ?it/s]"
      ]
     },
     "metadata": {},
     "output_type": "display_data"
    },
    {
     "data": {
      "application/vnd.jupyter.widget-view+json": {
       "model_id": "51b264d722cb4b74b1c339f85f289316",
       "version_major": 2,
       "version_minor": 0
      },
      "text/plain": [
       "Creating parquet from Arrow format:   0%|          | 0/631 [00:00<?, ?ba/s]"
      ]
     },
     "metadata": {},
     "output_type": "display_data"
    },
    {
     "data": {
      "text/plain": [
       "CommitInfo(commit_url='https://huggingface.co/datasets/minhaozhang/minecraft-question-answer-630k/commit/96f1e8b1e6b3b022aa247182f8dd7201479c0b9d', commit_message='Upload dataset', commit_description='', oid='96f1e8b1e6b3b022aa247182f8dd7201479c0b9d', pr_url=None, repo_url=RepoUrl('https://huggingface.co/datasets/minhaozhang/minecraft-question-answer-630k', endpoint='https://huggingface.co', repo_type='dataset', repo_id='minhaozhang/minecraft-question-answer-630k'), pr_revision=None, pr_num=None)"
      ]
     },
     "execution_count": 12,
     "metadata": {},
     "output_type": "execute_result"
    }
   ],
   "source": [
    "mc_qa.to_json(\"../data/hf/minecraft-question-answer-630k.jsonl\", orient='records', lines=True)\n",
    "from datasets import Dataset \n",
    "mc_qa_630k = Dataset.from_pandas(mc_qa, preserve_index=False)\n",
    "mc_qa_630k.push_to_hub(\"minecraft-question-answer-630k\")"
   ]
  },
  {
   "cell_type": "markdown",
   "metadata": {},
   "source": [
    "## Remove platfrom history, Minecraft Earth & Dungeons, and some more"
   ]
  },
  {
   "cell_type": "code",
   "execution_count": 13,
   "metadata": {},
   "outputs": [
    {
     "name": "stdout",
     "output_type": "stream",
     "text": [
      "The resulting table has 563344 rows.\n"
     ]
    }
   ],
   "source": [
    "removal = ['Alpha_', 'Bedrock_', 'Beta_', 'Classic_', 'Console_', \n",
    "           'Education_Edition_', 'Element', 'Indev_', 'Infdev_', \n",
    "           'Java_Edition_', 'Launcher_', 'Legacy_Console_', 'Minecon_', \n",
    "           'MinecraftEdu_', 'Minecraft_Dungeons_', 'Minecraft_Earth_', \n",
    "           'Minecraft_Education_', 'Minecraft_Wiki/', 'New_Nintendo_', \n",
    "           'Nintendo_', 'PlayStation_', 'Pocket_', 'Programs_And_Editors', \n",
    "           'Realm_', 'Resource_Pack_', 'Resource_Location', \n",
    "           'Skin/', 'Village/', 'Wii_', 'XBox_', 'Xbox_']\n",
    "\n",
    "# print(sorted(removal))\n",
    "\n",
    "mask = ~mc_qa['source'].str.startswith(tuple(removal), na=False) # na=False to handle NaN values\n",
    "\n",
    "mc_qa = mc_qa[mask]\n",
    "print(f\"The resulting table has {len(mc_qa)} rows.\")"
   ]
  },
  {
   "cell_type": "markdown",
   "metadata": {},
   "source": [
    "## Remove Java version history "
   ]
  },
  {
   "cell_type": "code",
   "execution_count": 14,
   "metadata": {},
   "outputs": [
    {
     "name": "stdout",
     "output_type": "stream",
     "text": [
      "The resulting table has 554828 rows.\n"
     ]
    }
   ],
   "source": [
    "urls = sorted(set(mc_qa['source']))\n",
    "amplified_index = urls.index(\"AMPLIFIED\")\n",
    "if amplified_index > 0:\n",
    "    sources_to_remove = urls[:amplified_index]\n",
    "else:\n",
    "    sources_to_remove = []\n",
    "\n",
    "mc_qa = mc_qa[~mc_qa['source'].isin(sources_to_remove)]\n",
    "print(f\"The resulting table has {len(mc_qa)} rows.\")"
   ]
  },
  {
   "cell_type": "markdown",
   "metadata": {},
   "source": [
    "## Drop duplicate questions"
   ]
  },
  {
   "cell_type": "code",
   "execution_count": 15,
   "metadata": {},
   "outputs": [
    {
     "name": "stdout",
     "output_type": "stream",
     "text": [
      "The resulting table has 504899 rows.\n"
     ]
    }
   ],
   "source": [
    "mc_qa = mc_qa.drop_duplicates(['question'])\n",
    "print(f\"The resulting table has {len(mc_qa)} rows.\")"
   ]
  },
  {
   "cell_type": "markdown",
   "metadata": {},
   "source": [
    "## Remove pages with less than 5 questions (too short of a page)"
   ]
  },
  {
   "cell_type": "code",
   "execution_count": 16,
   "metadata": {},
   "outputs": [
    {
     "name": "stdout",
     "output_type": "stream",
     "text": [
      "The resulting table has 500441 rows.\n"
     ]
    }
   ],
   "source": [
    "# Group by source, count rows, and sort by count\n",
    "source_counts = mc_qa.groupby('source').size().sort_values()\n",
    "\n",
    "# Filter groups with size less than 20\n",
    "sources_to_remove = source_counts[source_counts <= 5].index.tolist()\n",
    "\n",
    "# Remove rows with sources in the sources_to_remove list\n",
    "mc_qa = mc_qa[~mc_qa['source'].isin(\n",
    "    sources_to_remove)]\n",
    "print(f\"The resulting table has {len(mc_qa)} rows.\")"
   ]
  },
  {
   "cell_type": "markdown",
   "metadata": {},
   "source": [
    "## Save V2"
   ]
  },
  {
   "cell_type": "code",
   "execution_count": 17,
   "metadata": {},
   "outputs": [
    {
     "data": {
      "application/vnd.jupyter.widget-view+json": {
       "model_id": "f0a2d38774ab4711bdc22271eb6ce7ec",
       "version_major": 2,
       "version_minor": 0
      },
      "text/plain": [
       "Uploading the dataset shards:   0%|          | 0/1 [00:00<?, ?it/s]"
      ]
     },
     "metadata": {},
     "output_type": "display_data"
    },
    {
     "data": {
      "application/vnd.jupyter.widget-view+json": {
       "model_id": "d2bcd2c094ad4e30932b2af67af41c18",
       "version_major": 2,
       "version_minor": 0
      },
      "text/plain": [
       "Creating parquet from Arrow format:   0%|          | 0/501 [00:00<?, ?ba/s]"
      ]
     },
     "metadata": {},
     "output_type": "display_data"
    },
    {
     "data": {
      "text/plain": [
       "CommitInfo(commit_url='https://huggingface.co/datasets/minhaozhang/minecraft-question-answer-500k/commit/70cfa228cd0d9617926e411d4c9b8eec8ac3e806', commit_message='Upload dataset', commit_description='', oid='70cfa228cd0d9617926e411d4c9b8eec8ac3e806', pr_url=None, repo_url=RepoUrl('https://huggingface.co/datasets/minhaozhang/minecraft-question-answer-500k', endpoint='https://huggingface.co', repo_type='dataset', repo_id='minhaozhang/minecraft-question-answer-500k'), pr_revision=None, pr_num=None)"
      ]
     },
     "execution_count": 17,
     "metadata": {},
     "output_type": "execute_result"
    }
   ],
   "source": [
    "mc_qa.to_json(\"../data/hf/minecraft-question-answer-500k.jsonl\", orient='records', lines=True)\n",
    "mc_qa_500k = Dataset.from_pandas(mc_qa, preserve_index=False)\n",
    "mc_qa_500k.push_to_hub(\"minecraft-question-answer-500k\")"
   ]
  }
 ],
 "metadata": {
  "kernelspec": {
   "display_name": "steve",
   "language": "python",
   "name": "python3"
  },
  "language_info": {
   "codemirror_mode": {
    "name": "ipython",
    "version": 3
   },
   "file_extension": ".py",
   "mimetype": "text/x-python",
   "name": "python",
   "nbconvert_exporter": "python",
   "pygments_lexer": "ipython3",
   "version": "3.13.2"
  }
 },
 "nbformat": 4,
 "nbformat_minor": 2
}
